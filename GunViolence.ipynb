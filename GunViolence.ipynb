{
 "cells": [
  {
   "cell_type": "markdown",
   "metadata": {},
   "source": [
    "## Gun Violence in the Unites States\n",
    "\n",
    "### 0. Introduzione\n",
    "Spesso si sente parlare di sparatorie negli Stati Uniti con diversi morti. Il tema delle armi è scottante e spesso centrale in molti discorsi politici, dalla totale libertà dei Repubblicani alla timida voglia di cambiamento dei Democratici. \n",
    "Ma come sono distribuiti nei vari stati questi eventi? È presente una collocazione geografica precisa (est/ovest) o no?\n",
    "Inoltre spesso si analizza anche la componente razziale di alcuni eventi. È presente una relazione tra il numero di morti e la composizione etnica della popolazione? \n",
    "Queste sono due delle domande a cui si cercherà di dare risposta."
   ]
  },
  {
   "cell_type": "markdown",
   "metadata": {},
   "source": [
    "# 1. I dataset\n",
    "Entrambi i dataset trattati provengono dal CDC ([Center fo Desease Control and Prevention](https://www.cdc.gov/)):\n",
    "- \"Multiple Cause of Death, 1999-2020\"\n",
    "- \"Single-Race Population Estimates 2010-2019\"\n",
    "\n",
    "\n",
    "Il dataset \"Multiple Cause of Death, 1999-2020\" contiene i dati riguardanti le morti per armi da fuoco negli anni 1999-2020 suddivisi per stato, genere e anno. Contiene i seguenti campi:\n",
    "\n",
    "| Campo | Descrizone |\n",
    "| ----------- | ----------- |\n",
    "| State | Stato |\n",
    "| Gender | Genere (Male, Female) |\n",
    "| Year | Anno |\n",
    "| Deaths | Numero di morti |\n",
    "\n",
    "Il dataset \"Single-Race Population Estimates 2010-2019\" contiene i dati demografici dei singoli stati con enfasi sulle etnie della popolazione. Contiene i seguenti campi: \n",
    "\n",
    "| Campo | Descrizone |\n",
    "| ----------- | ----------- |\n",
    "| State | Stato |\n",
    "| Gender | Genere (Male, Female) |\n",
    "| Ethnicity | Etnia: Hispanic or Latino, Not Hispanic or Latino |\n",
    "| Race | Razza: American Indian or Alaska Native, Black or Africa American, White, Asian |\n",
    "| Year | Anno |\n",
    "| Population | Numero di abitati |\n",
    "\n",
    "Per il trattamento dei dati e delle successive operazioni di analisi saranno usate le seguenti liberie.\n",
    "- pandas\n",
    "- numpy\n",
    "- seaborn"
   ]
  },
  {
   "cell_type": "markdown",
   "metadata": {},
   "source": [
    "I dataset scaricati dal CDC sono in formato txt, quindi un primo passaggio sarà quello di convertirli in csv, successivamente si possono eliminare le clonne superflue. Il codice per questi passaggi è contenuto nel file \"Gun-violence-in-US\\Dataset\\clean_data.py\" "
   ]
  }
 ],
 "metadata": {
  "kernelspec": {
   "display_name": "Python 3.9.13 64-bit",
   "language": "python",
   "name": "python3"
  },
  "language_info": {
   "name": "python",
   "version": "3.9.13"
  },
  "orig_nbformat": 4,
  "vscode": {
   "interpreter": {
    "hash": "514707e9b6dfd74413af84717689f89e84bba98f6fc02054a0a2bf705ef2b367"
   }
  }
 },
 "nbformat": 4,
 "nbformat_minor": 2
}
