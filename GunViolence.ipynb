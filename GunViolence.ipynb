{
 "cells": [
  {
   "cell_type": "markdown",
   "metadata": {},
   "source": [
    "<center>\n",
    "<h1>Attività Data Analytics: Gun Violence in the Unites States </h1>\n",
    "Pifferi Cristiano <br>\n",
    "Matricola: 172907 <br>\n",
    "Università di Modena e Reggio Emilia <br>\n",
    "254764@studenti.unimore.it\n",
    "</center>\n",
    "\n",
    "### 0. Introduzione\n",
    "Spesso si sente parlare di sparatorie negli Stati Uniti con diversi morti. Il tema delle armi è scottante e spesso centrale in molti discorsi politici, dalla totale libertà dei Repubblicani alla timida voglia di cambiamento dei Democratici. \n",
    "Ma come sono distribuiti nei vari stati questi eventi? È presente una collocazione geografica precisa (est/ovest) o no?\n",
    "Inoltre spesso si analizza anche la componente razziale di alcuni eventi. È presente una relazione tra il numero di morti e la composizione etnica della popolazione? \n",
    "Queste sono due delle domande a cui si cercherà di dare risposta."
   ]
  },
  {
   "cell_type": "markdown",
   "metadata": {},
   "source": [
    "### 1. I dataset\n",
    "Entrambi i dataset trattati provengono dal CDC ([Center fo Desease Control and Prevention](https://www.cdc.gov/)):\n",
    "- \"Multiple Cause of Death, 1999-2020\"\n",
    "- \"Single-Race Population Estimates 2010-2019\"\n",
    "\n",
    "\n",
    "Il dataset \"Multiple Cause of Death, 1999-2020\" contiene i dati riguardanti le morti per armi da fuoco negli anni 1999-2020 suddivisi per stato, genere e anno. Contiene i seguenti campi:\n",
    "\n",
    "| Campo | Descrizone |\n",
    "| ----------- | ----------- |\n",
    "| State | Stato |\n",
    "| Gender | Genere (Male, Female) |\n",
    "| Year | Anno |\n",
    "| Deaths | Numero di morti |\n",
    "\n",
    "Il dataset \"Single-Race Population Estimates 2010-2019\" contiene i dati demografici dei singoli stati con enfasi sulle etnie della popolazione. Contiene i seguenti campi: \n",
    "\n",
    "| Campo | Descrizone |\n",
    "| ----------- | ----------- |\n",
    "| State | Stato |\n",
    "| Gender | Genere (Male, Female) |\n",
    "| Race | Razza: American Indian or Alaska Native, Black or Africa American, White, Asian, Native Hawaiian or Other Pacific Islander, More than one race |\n",
    "| Year | Anno |\n",
    "| Population | Numero di abitati |\n",
    "\n",
    "Per il trattamento dei dati e delle successive operazioni di analisi saranno usate le seguenti liberie.\n",
    "- pandas\n",
    "- Scipy\n",
    "- seaborn\n",
    "- plotly\n",
    "- matplotlib"
   ]
  },
  {
   "cell_type": "code",
   "execution_count": 14,
   "metadata": {},
   "outputs": [],
   "source": [
    "import pandas as pd\n",
    "import scipy.stats as sci\n",
    "import seaborn as sns\n",
    "import plotly.express as px\n",
    "import matplotlib.pyplot as plt"
   ]
  },
  {
   "cell_type": "markdown",
   "metadata": {},
   "source": [
    "I dataset scaricati dal CDC sono in formato txt, quindi un primo passaggio sarà quello di convertirli in csv, successivamente si possono eliminare le clonne superflue. Il codice per questi passaggi è contenuto nel file \"Gun-violence-in-US\\Dataset\\clean_data.py\".\n",
    " \n",
    "Carichiamo dunque i dataset e manteniamo solo i dati relativi agli anni in comune, cioè 2010-2019."
   ]
  },
  {
   "cell_type": "code",
   "execution_count": 15,
   "metadata": {},
   "outputs": [
    {
     "data": {
      "text/html": [
       "<div>\n",
       "<style scoped>\n",
       "    .dataframe tbody tr th:only-of-type {\n",
       "        vertical-align: middle;\n",
       "    }\n",
       "\n",
       "    .dataframe tbody tr th {\n",
       "        vertical-align: top;\n",
       "    }\n",
       "\n",
       "    .dataframe thead th {\n",
       "        text-align: right;\n",
       "    }\n",
       "</style>\n",
       "<table border=\"1\" class=\"dataframe\">\n",
       "  <thead>\n",
       "    <tr style=\"text-align: right;\">\n",
       "      <th></th>\n",
       "      <th>State</th>\n",
       "      <th>Gender</th>\n",
       "      <th>Race</th>\n",
       "      <th>Year</th>\n",
       "      <th>Population</th>\n",
       "    </tr>\n",
       "  </thead>\n",
       "  <tbody>\n",
       "    <tr>\n",
       "      <th>0</th>\n",
       "      <td>Alabama</td>\n",
       "      <td>Female</td>\n",
       "      <td>American Indian or Alaska Native</td>\n",
       "      <td>2010.0</td>\n",
       "      <td>16096.0</td>\n",
       "    </tr>\n",
       "    <tr>\n",
       "      <th>1</th>\n",
       "      <td>Colorado</td>\n",
       "      <td>Female</td>\n",
       "      <td>Black or African American</td>\n",
       "      <td>2010.0</td>\n",
       "      <td>102504.0</td>\n",
       "    </tr>\n",
       "    <tr>\n",
       "      <th>2</th>\n",
       "      <td>Missouri</td>\n",
       "      <td>Female</td>\n",
       "      <td>More than one race</td>\n",
       "      <td>2010.0</td>\n",
       "      <td>57312.0</td>\n",
       "    </tr>\n",
       "    <tr>\n",
       "      <th>3</th>\n",
       "      <td>Missouri</td>\n",
       "      <td>Female</td>\n",
       "      <td>White</td>\n",
       "      <td>2010.0</td>\n",
       "      <td>2561135.0</td>\n",
       "    </tr>\n",
       "    <tr>\n",
       "      <th>4</th>\n",
       "      <td>Missouri</td>\n",
       "      <td>Female</td>\n",
       "      <td>Native Hawaiian or Other Pacific Islander</td>\n",
       "      <td>2010.0</td>\n",
       "      <td>3615.0</td>\n",
       "    </tr>\n",
       "  </tbody>\n",
       "</table>\n",
       "</div>"
      ],
      "text/plain": [
       "      State  Gender                                       Race    Year  \\\n",
       "0   Alabama  Female           American Indian or Alaska Native  2010.0   \n",
       "1  Colorado  Female                  Black or African American  2010.0   \n",
       "2  Missouri  Female                         More than one race  2010.0   \n",
       "3  Missouri  Female                                      White  2010.0   \n",
       "4  Missouri  Female  Native Hawaiian or Other Pacific Islander  2010.0   \n",
       "\n",
       "   Population  \n",
       "0     16096.0  \n",
       "1    102504.0  \n",
       "2     57312.0  \n",
       "3   2561135.0  \n",
       "4      3615.0  "
      ]
     },
     "execution_count": 15,
     "metadata": {},
     "output_type": "execute_result"
    }
   ],
   "source": [
    "# import dataset\n",
    "dfGun = pd.read_csv('https://raw.githubusercontent.com/CriPiffe/Gun-violence-in-US/main/Dataset/Multiple%20Cause%20of%20Death%2C%201999-2020.csv')\n",
    "dfDemo = pd.read_csv('https://raw.githubusercontent.com/CriPiffe/Gun-violence-in-US/main/Dataset/Single-Race%20Population%20Estimates%202010-2019.csv')\n",
    "\n",
    "# rimozione dati 1999-2009 e 2020\n",
    "dfGun = dfGun[(dfGun['Year']>2009) & (dfGun['Year']<2020)]\n",
    "\n",
    "dfGun.head()\n",
    "dfDemo.head()"
   ]
  },
  {
   "cell_type": "markdown",
   "metadata": {},
   "source": [
    "### 2. Analisi geografica e temporale\n",
    "\n",
    "In questo paragrafo si analizzerà la relazione tra le morti per arma da fuoco e la collocazione geografica e temporale. Le domande guida sono 2: \n",
    "- Qual è il trend temporale? Si può dire qualcosa sul futuro?\n",
    "- Sono presenti zone geografiche delimitate in cui i dati sono simili?\n",
    "\n",
    "Prima di tutto prepariamo il dataset togliendo i dati relativi alla composizione etnica che serviranno sucessivamente."
   ]
  },
  {
   "cell_type": "code",
   "execution_count": 16,
   "metadata": {},
   "outputs": [
    {
     "data": {
      "text/html": [
       "<div>\n",
       "<style scoped>\n",
       "    .dataframe tbody tr th:only-of-type {\n",
       "        vertical-align: middle;\n",
       "    }\n",
       "\n",
       "    .dataframe tbody tr th {\n",
       "        vertical-align: top;\n",
       "    }\n",
       "\n",
       "    .dataframe thead th {\n",
       "        text-align: right;\n",
       "    }\n",
       "</style>\n",
       "<table border=\"1\" class=\"dataframe\">\n",
       "  <thead>\n",
       "    <tr style=\"text-align: right;\">\n",
       "      <th></th>\n",
       "      <th>State</th>\n",
       "      <th>Year</th>\n",
       "      <th>Deaths</th>\n",
       "      <th>Population</th>\n",
       "    </tr>\n",
       "  </thead>\n",
       "  <tbody>\n",
       "    <tr>\n",
       "      <th>0</th>\n",
       "      <td>Alabama</td>\n",
       "      <td>2010</td>\n",
       "      <td>781</td>\n",
       "      <td>4785437.0</td>\n",
       "    </tr>\n",
       "    <tr>\n",
       "      <th>1</th>\n",
       "      <td>Alabama</td>\n",
       "      <td>2011</td>\n",
       "      <td>786</td>\n",
       "      <td>4799069.0</td>\n",
       "    </tr>\n",
       "    <tr>\n",
       "      <th>2</th>\n",
       "      <td>Alabama</td>\n",
       "      <td>2012</td>\n",
       "      <td>832</td>\n",
       "      <td>4815588.0</td>\n",
       "    </tr>\n",
       "    <tr>\n",
       "      <th>3</th>\n",
       "      <td>Alabama</td>\n",
       "      <td>2013</td>\n",
       "      <td>855</td>\n",
       "      <td>4830081.0</td>\n",
       "    </tr>\n",
       "    <tr>\n",
       "      <th>4</th>\n",
       "      <td>Alabama</td>\n",
       "      <td>2014</td>\n",
       "      <td>813</td>\n",
       "      <td>4841799.0</td>\n",
       "    </tr>\n",
       "    <tr>\n",
       "      <th>5</th>\n",
       "      <td>Alabama</td>\n",
       "      <td>2015</td>\n",
       "      <td>955</td>\n",
       "      <td>4852347.0</td>\n",
       "    </tr>\n",
       "    <tr>\n",
       "      <th>6</th>\n",
       "      <td>Alabama</td>\n",
       "      <td>2016</td>\n",
       "      <td>1037</td>\n",
       "      <td>4863525.0</td>\n",
       "    </tr>\n",
       "    <tr>\n",
       "      <th>7</th>\n",
       "      <td>Alabama</td>\n",
       "      <td>2017</td>\n",
       "      <td>1122</td>\n",
       "      <td>4874486.0</td>\n",
       "    </tr>\n",
       "    <tr>\n",
       "      <th>8</th>\n",
       "      <td>Alabama</td>\n",
       "      <td>2018</td>\n",
       "      <td>1064</td>\n",
       "      <td>4887681.0</td>\n",
       "    </tr>\n",
       "    <tr>\n",
       "      <th>9</th>\n",
       "      <td>Alabama</td>\n",
       "      <td>2019</td>\n",
       "      <td>1072</td>\n",
       "      <td>4903185.0</td>\n",
       "    </tr>\n",
       "  </tbody>\n",
       "</table>\n",
       "</div>"
      ],
      "text/plain": [
       "     State  Year  Deaths  Population\n",
       "0  Alabama  2010     781   4785437.0\n",
       "1  Alabama  2011     786   4799069.0\n",
       "2  Alabama  2012     832   4815588.0\n",
       "3  Alabama  2013     855   4830081.0\n",
       "4  Alabama  2014     813   4841799.0\n",
       "5  Alabama  2015     955   4852347.0\n",
       "6  Alabama  2016    1037   4863525.0\n",
       "7  Alabama  2017    1122   4874486.0\n",
       "8  Alabama  2018    1064   4887681.0\n",
       "9  Alabama  2019    1072   4903185.0"
      ]
     },
     "execution_count": 16,
     "metadata": {},
     "output_type": "execute_result"
    }
   ],
   "source": [
    "dffDemo = dfDemo[['State','Year','Population']].groupby(by=['State','Year'], as_index=False).sum()\n",
    "dffGun=dfGun[['State','Year','Deaths']].groupby(by=['State','Year'], as_index=False).sum()\n",
    "\n",
    "dffOnlyPopulation = pd.merge(dffGun,dffDemo, how='inner', on=['State','Year'])\n",
    "\n",
    "dffOnlyPopulation.head(10)"
   ]
  },
  {
   "cell_type": "markdown",
   "metadata": {},
   "source": [
    "Si è parlato di dati simili nei vari stati, ma in che senso? Serve una misura per comparare gli Stati tra loro. Tale misura la troviamo nel _crude rate_, cioè il rapporto tra morti per arma da fuoco e popolazione per ogni anno. Nel nostro caso sarà inoltre moltiplicato per 1000 in modo da rendere i numeri più fruibili."
   ]
  },
  {
   "cell_type": "code",
   "execution_count": 17,
   "metadata": {},
   "outputs": [],
   "source": [
    "crudeRate = [(nDeaths/pop)*1000 for (nDeaths, pop) in zip(dffOnlyPopulation['Deaths'], dffOnlyPopulation['Population'])]\n",
    "\n",
    "dffOnlyPopulation.insert(loc=len(dffOnlyPopulation.columns), column='Crude Rate', value=crudeRate)\n",
    "\n",
    "dffOnlyPopulation = dffOnlyPopulation.sort_values(by=['Crude Rate'], ascending=False)\n",
    "\n",
    "dffOnlyPopulation.to_csv('withCrudeRate.csv', index=False)\n"
   ]
  },
  {
   "cell_type": "markdown",
   "metadata": {},
   "source": [
    "Partiamo dalla prima domanda. Da una prima osservazione si nota come le prime posizioni siano occupate da anni recenti (2015-2019). Per verificare questa ipotesi raggruppiamo per anno e facciamo la media di tutti i crude rate dei singoli stati."
   ]
  },
  {
   "cell_type": "code",
   "execution_count": 18,
   "metadata": {},
   "outputs": [
    {
     "data": {
      "image/png": "[encoded data removed]",
      "text/plain": [
       "<Figure size 1200x600 with 2 Axes>"
      ]
     },
     "metadata": {},
     "output_type": "display_data"
    }
   ],
   "source": [
    "dfCrudeRateByYear = dffOnlyPopulation.drop(['State'], axis=1).groupby(by='Year', as_index=False).agg({'Deaths':'sum',\n",
    "                                                                                                      'Population':'sum',\n",
    "                                                                                                      'Crude Rate':'mean'})\n",
    "\n",
    "#dfCrudeRateByYear.head(10)\n",
    "\n",
    "# plot\n",
    "sns.set(rc={'figure.figsize':(12,6)})\n",
    "fig, axs = plt.subplots(1,2, sharex=True, sharey=True)\n",
    "\n",
    "plot1 = sns.lineplot(data=dfCrudeRateByYear, x='Year', y='Crude Rate', ax=axs[0])\n",
    "plot2 = sns.lineplot(data=dffOnlyPopulation, x='Year', y='Crude Rate', ax=axs[1])\n",
    "years = dfCrudeRateByYear['Year'].astype(str).values.tolist()\n",
    "\n",
    "plot1.set(xticks=dfCrudeRateByYear['Year'].values)\n",
    "plot2.set(xticks=dfCrudeRateByYear['Year'].values)\n",
    "\n",
    "fig.suptitle('Variazione del crude rate negli anni', fontsize=20)\n",
    "axs[0].set_title('Crude rate medio di tutti gli stati')\n",
    "axs[1].set_title('Crude rate medio e 95% di confidenza per anno');\n"
   ]
  },
  {
   "cell_type": "markdown",
   "metadata": {},
   "source": [
    "L'ipotesi è confermata, la rappresentazione grafica mostra come il crude rate (medio) aumenti nel corso degli anni, nonostante un plateau negli ultimi anni. Soprattutto negli anni 2015-2017 il crude rate è aumentato di molto, ma i dati non ci permettono di avanzare delle motivazioni, che possono risiedere nel contesto sociale, politico ed economico del paese. Altra osservazione riguarda gli anni 2018 e 2019, in cui la variazione del crude rate è minima rispetto al 2017, ma è rilevante l'intervallo di confidenza del 95%, perché ci indica come la costanza si raggiunta per via un peggioramento di alcuni stati e un miglioramento di altri. Situazione diversa rispetto agli anni 2013 e 2014, in cui la fascia del 95% si mantiene costante sia nei massimi sia nei minimi.\n",
    "Si può di conseguenza ipotizzare, negli anni seguenti, un maggiore virtuosismo da parte di alcui stati, mentre il peggioramento in altri. \n",
    "\n",
    "Passiamo ora ad analizzare i dati in base al luogo geografico, raggruppando quindi per stato ed ordinando per crude rate maggiore per verificare se vi è presente una distribuzione geografica rilevante."
   ]
  },
  {
   "cell_type": "code",
   "execution_count": 19,
   "metadata": {},
   "outputs": [
    {
     "data": {
      "image/png": "[encoded data removed]",
      "text/plain": [
       "<Figure size 1570x527 with 1 Axes>"
      ]
     },
     "metadata": {},
     "output_type": "display_data"
    }
   ],
   "source": [
    "dfMean = dffOnlyPopulation.drop('Year', axis=1).groupby(by='State', as_index=False).mean()\n",
    "\n",
    "dfMean = dfMean.sort_values(by=['Crude Rate'], ascending=False)\n",
    "\n",
    "# plot con grafico a barre\n",
    "sns.set(rc={'figure.figsize':(15.7,5.27)})\n",
    "plot =sns.barplot(dfMean, x='State', y='Crude Rate', color='r' )\n",
    "\n",
    "plot.set_xticklabels(plot.get_xticklabels(), rotation=90, size = 10);"
   ]
  },
  {
   "cell_type": "markdown",
   "metadata": {},
   "source": [
    "Si osserva come, tolta l'Alaska, gli stati con crude rate più alto siano Louisiana, Mississippi e Alabama che sono geograficamente situati nel sud-est del paese. Questo fenomeno è confermato saltando due posizioni e notando come anche Arkansas, Missouri e Oklahoma abbiano un valore maggiore a 0.17, spostando il polo geografico verso il centro. Si delimita quindi una regione di stati confinanti con popolazione rilevante (più di un milione di abitanti ciascuno) con un crude rate consistente ed elevato. \n",
    "\n",
    "Fenomeno simile si osserva negli stati più \"diligenti\", che si collocano nel nord-est del paese: Massachusetts, Rhode Island, New York, New Jersey e Connecticut. \n",
    "\n",
    "Nella mappa sottostante è possibile verificare questo andamento."
   ]
  },
  {
   "cell_type": "code",
   "execution_count": 20,
   "metadata": {},
   "outputs": [
    {
     "data": {
      "application/vnd.plotly.v1+json": {
       "config": {
        "plotlyServerURL": "https://plot.ly"
       },
       "data": [
        {
         "coloraxis": "coloraxis",
         "geo": "geo",
         "hovertemplate": "State Code=%{location}<br>Crude Rate=%{z}<extra></extra>",
         "locationmode": "USA-states",
         "locations": [
          "AK",
          "LA",
          "MS",
          "AL",
          "WY",
          "MT",
          "AR",
          "MO",
          "OK",
          "NM",
          "SC",
          "TN",
          "WV",
          "NV",
          "KY",
          "AZ",
          "GA",
          "ID",
          "dc",
          "IN",
          "CO",
          "FL",
          "NC",
          "KS",
          "OR",
          "MI",
          "OH",
          "UT",
          "PA",
          "TX",
          "VA",
          "ND",
          "VT",
          "MD",
          "ME",
          "DE",
          "SD",
          "IL",
          "WA",
          "WI",
          "NH",
          "NE",
          "IA",
          "CA",
          "MN",
          "CT",
          "NJ",
          "NY",
          "RI",
          "MA",
          "HI"
         ],
         "name": "",
         "type": "choropleth",
         "z": [
          0.2094160537829996,
          0.20077891658476643,
          0.19376918827216824,
          0.19212194403021726,
          0.1870411433551346,
          0.179577973574017,
          0.17329408028138393,
          0.1724212043173709,
          0.1697409605861016,
          0.1693072510708767,
          0.16581631835583605,
          0.16444161361164156,
          0.15993532865473392,
          0.15152826511188958,
          0.15080491184645667,
          0.14766770522909234,
          0.1405165572263101,
          0.13967469479954847,
          0.13939994593231125,
          0.1292237685689362,
          0.12850014004093505,
          0.12698608896128113,
          0.12687741680318843,
          0.12538156352013646,
          0.119096255068012,
          0.11815353303534507,
          0.1175863492420853,
          0.11668108178578471,
          0.1157648087645905,
          0.11269348844222978,
          0.11220774042468058,
          0.11189520631804242,
          0.10589139568123904,
          0.10539328151383479,
          0.10500027231509765,
          0.1038708324267763,
          0.10335037864599708,
          0.0980732714501539,
          0.09697063438640283,
          0.095690562723562,
          0.09131616067108243,
          0.09075794579766142,
          0.08143830513613066,
          0.07675755670165285,
          0.07475713507551118,
          0.05289229934906593,
          0.05119653371744661,
          0.04480570425787862,
          0.03863681059809011,
          0.03490873102829738,
          0.031023858376522197
         ]
        }
       ],
       "layout": {
        "coloraxis": {
         "colorbar": {
          "title": {
           "text": "Crude Rate"
          }
         },
         "colorscale": [
          [
           0,
           "#440154"
          ],
          [
           0.1111111111111111,
           "#482878"
          ],
          [
           0.2222222222222222,
           "#3e4989"
          ],
          [
           0.3333333333333333,
           "#31688e"
          ],
          [
           0.4444444444444444,
           "#26828e"
          ],
          [
           0.5555555555555556,
           "#1f9e89"
          ],
          [
           0.6666666666666666,
           "#35b779"
          ],
          [
           0.7777777777777778,
           "#6ece58"
          ],
          [
           0.8888888888888888,
           "#b5de2b"
          ],
          [
           1,
           "#fde725"
          ]
         ]
        },
        "geo": {
         "center": {},
         "domain": {
          "x": [
           0,
           1
          ],
          "y": [
           0,
           1
          ]
         },
         "scope": "usa"
        },
        "legend": {
         "tracegroupgap": 0
        },
        "margin": {
         "t": 60
        },
        "template": {
         "data": {
          "bar": [
           {
            "error_x": {
             "color": "#2a3f5f"
            },
            "error_y": {
             "color": "#2a3f5f"
            },
            "marker": {
             "line": {
              "color": "#E5ECF6",
              "width": 0.5
             },
             "pattern": {
              "fillmode": "overlay",
              "size": 10,
              "solidity": 0.2
             }
            },
            "type": "bar"
           }
          ],
          "barpolar": [
           {
            "marker": {
             "line": {
              "color": "#E5ECF6",
              "width": 0.5
             },
             "pattern": {
              "fillmode": "overlay",
              "size": 10,
              "solidity": 0.2
             }
            },
            "type": "barpolar"
           }
          ],
          "carpet": [
           {
            "aaxis": {
             "endlinecolor": "#2a3f5f",
             "gridcolor": "white",
             "linecolor": "white",
             "minorgridcolor": "white",
             "startlinecolor": "#2a3f5f"
            },
            "baxis": {
             "endlinecolor": "#2a3f5f",
             "gridcolor": "white",
             "linecolor": "white",
             "minorgridcolor": "white",
             "startlinecolor": "#2a3f5f"
            },
            "type": "carpet"
           }
          ],
          "choropleth": [
           {
            "colorbar": {
             "outlinewidth": 0,
             "ticks": ""
            },
            "type": "choropleth"
           }
          ],
          "contour": [
           {
            "colorbar": {
             "outlinewidth": 0,
             "ticks": ""
            },
            "colorscale": [
             [
              0,
              "#0d0887"
             ],
             [
              0.1111111111111111,
              "#46039f"
             ],
             [
              0.2222222222222222,
              "#7201a8"
             ],
             [
              0.3333333333333333,
              "#9c179e"
             ],
             [
              0.4444444444444444,
              "#bd3786"
             ],
             [
              0.5555555555555556,
              "#d8576b"
             ],
             [
              0.6666666666666666,
              "#ed7953"
             ],
             [
              0.7777777777777778,
              "#fb9f3a"
             ],
             [
              0.8888888888888888,
              "#fdca26"
             ],
             [
              1,
              "#f0f921"
             ]
            ],
            "type": "contour"
           }
          ],
          "contourcarpet": [
           {
            "colorbar": {
             "outlinewidth": 0,
             "ticks": ""
            },
            "type": "contourcarpet"
           }
          ],
          "heatmap": [
           {
            "colorbar": {
             "outlinewidth": 0,
             "ticks": ""
            },
            "colorscale": [
             [
              0,
              "#0d0887"
             ],
             [
              0.1111111111111111,
              "#46039f"
             ],
             [
              0.2222222222222222,
              "#7201a8"
             ],
             [
              0.3333333333333333,
              "#9c179e"
             ],
             [
              0.4444444444444444,
              "#bd3786"
             ],
             [
              0.5555555555555556,
              "#d8576b"
             ],
             [
              0.6666666666666666,
              "#ed7953"
             ],
             [
              0.7777777777777778,
              "#fb9f3a"
             ],
             [
              0.8888888888888888,
              "#fdca26"
             ],
             [
              1,
              "#f0f921"
             ]
            ],
            "type": "heatmap"
           }
          ],
          "heatmapgl": [
           {
            "colorbar": {
             "outlinewidth": 0,
             "ticks": ""
            },
            "colorscale": [
             [
              0,
              "#0d0887"
             ],
             [
              0.1111111111111111,
              "#46039f"
             ],
             [
              0.2222222222222222,
              "#7201a8"
             ],
             [
              0.3333333333333333,
              "#9c179e"
             ],
             [
              0.4444444444444444,
              "#bd3786"
             ],
             [
              0.5555555555555556,
              "#d8576b"
             ],
             [
              0.6666666666666666,
              "#ed7953"
             ],
             [
              0.7777777777777778,
              "#fb9f3a"
             ],
             [
              0.8888888888888888,
              "#fdca26"
             ],
             [
              1,
              "#f0f921"
             ]
            ],
            "type": "heatmapgl"
           }
          ],
          "histogram": [
           {
            "marker": {
             "pattern": {
              "fillmode": "overlay",
              "size": 10,
              "solidity": 0.2
             }
            },
            "type": "histogram"
           }
          ],
          "histogram2d": [
           {
            "colorbar": {
             "outlinewidth": 0,
             "ticks": ""
            },
            "colorscale": [
             [
              0,
              "#0d0887"
             ],
             [
              0.1111111111111111,
              "#46039f"
             ],
             [
              0.2222222222222222,
              "#7201a8"
             ],
             [
              0.3333333333333333,
              "#9c179e"
             ],
             [
              0.4444444444444444,
              "#bd3786"
             ],
             [
              0.5555555555555556,
              "#d8576b"
             ],
             [
              0.6666666666666666,
              "#ed7953"
             ],
             [
              0.7777777777777778,
              "#fb9f3a"
             ],
             [
              0.8888888888888888,
              "#fdca26"
             ],
             [
              1,
              "#f0f921"
             ]
            ],
            "type": "histogram2d"
           }
          ],
          "histogram2dcontour": [
           {
            "colorbar": {
             "outlinewidth": 0,
             "ticks": ""
            },
            "colorscale": [
             [
              0,
              "#0d0887"
             ],
             [
              0.1111111111111111,
              "#46039f"
             ],
             [
              0.2222222222222222,
              "#7201a8"
             ],
             [
              0.3333333333333333,
              "#9c179e"
             ],
             [
              0.4444444444444444,
              "#bd3786"
             ],
             [
              0.5555555555555556,
              "#d8576b"
             ],
             [
              0.6666666666666666,
              "#ed7953"
             ],
             [
              0.7777777777777778,
              "#fb9f3a"
             ],
             [
              0.8888888888888888,
              "#fdca26"
             ],
             [
              1,
              "#f0f921"
             ]
            ],
            "type": "histogram2dcontour"
           }
          ],
          "mesh3d": [
           {
            "colorbar": {
             "outlinewidth": 0,
             "ticks": ""
            },
            "type": "mesh3d"
           }
          ],
          "parcoords": [
           {
            "line": {
             "colorbar": {
              "outlinewidth": 0,
              "ticks": ""
             }
            },
            "type": "parcoords"
           }
          ],
          "pie": [
           {
            "automargin": true,
            "type": "pie"
           }
          ],
          "scatter": [
           {
            "fillpattern": {
             "fillmode": "overlay",
             "size": 10,
             "solidity": 0.2
            },
            "type": "scatter"
           }
          ],
          "scatter3d": [
           {
            "line": {
             "colorbar": {
              "outlinewidth": 0,
              "ticks": ""
             }
            },
            "marker": {
             "colorbar": {
              "outlinewidth": 0,
              "ticks": ""
             }
            },
            "type": "scatter3d"
           }
          ],
          "scattercarpet": [
           {
            "marker": {
             "colorbar": {
              "outlinewidth": 0,
              "ticks": ""
             }
            },
            "type": "scattercarpet"
           }
          ],
          "scattergeo": [
           {
            "marker": {
             "colorbar": {
              "outlinewidth": 0,
              "ticks": ""
             }
            },
            "type": "scattergeo"
           }
          ],
          "scattergl": [
           {
            "marker": {
             "colorbar": {
              "outlinewidth": 0,
              "ticks": ""
             }
            },
            "type": "scattergl"
           }
          ],
          "scattermapbox": [
           {
            "marker": {
             "colorbar": {
              "outlinewidth": 0,
              "ticks": ""
             }
            },
            "type": "scattermapbox"
           }
          ],
          "scatterpolar": [
           {
            "marker": {
             "colorbar": {
              "outlinewidth": 0,
              "ticks": ""
             }
            },
            "type": "scatterpolar"
           }
          ],
          "scatterpolargl": [
           {
            "marker": {
             "colorbar": {
              "outlinewidth": 0,
              "ticks": ""
             }
            },
            "type": "scatterpolargl"
           }
          ],
          "scatterternary": [
           {
            "marker": {
             "colorbar": {
              "outlinewidth": 0,
              "ticks": ""
             }
            },
            "type": "scatterternary"
           }
          ],
          "surface": [
           {
            "colorbar": {
             "outlinewidth": 0,
             "ticks": ""
            },
            "colorscale": [
             [
              0,
              "#0d0887"
             ],
             [
              0.1111111111111111,
              "#46039f"
             ],
             [
              0.2222222222222222,
              "#7201a8"
             ],
             [
              0.3333333333333333,
              "#9c179e"
             ],
             [
              0.4444444444444444,
              "#bd3786"
             ],
             [
              0.5555555555555556,
              "#d8576b"
             ],
             [
              0.6666666666666666,
              "#ed7953"
             ],
             [
              0.7777777777777778,
              "#fb9f3a"
             ],
             [
              0.8888888888888888,
              "#fdca26"
             ],
             [
              1,
              "#f0f921"
             ]
            ],
            "type": "surface"
           }
          ],
          "table": [
           {
            "cells": {
             "fill": {
              "color": "#EBF0F8"
             },
             "line": {
              "color": "white"
             }
            },
            "header": {
             "fill": {
              "color": "#C8D4E3"
             },
             "line": {
              "color": "white"
             }
            },
            "type": "table"
           }
          ]
         },
         "layout": {
          "annotationdefaults": {
           "arrowcolor": "#2a3f5f",
           "arrowhead": 0,
           "arrowwidth": 1
          },
          "autotypenumbers": "strict",
          "coloraxis": {
           "colorbar": {
            "outlinewidth": 0,
            "ticks": ""
           }
          },
          "colorscale": {
           "diverging": [
            [
             0,
             "#8e0152"
            ],
            [
             0.1,
             "#c51b7d"
            ],
            [
             0.2,
             "#de77ae"
            ],
            [
             0.3,
             "#f1b6da"
            ],
            [
             0.4,
             "#fde0ef"
            ],
            [
             0.5,
             "#f7f7f7"
            ],
            [
             0.6,
             "#e6f5d0"
            ],
            [
             0.7,
             "#b8e186"
            ],
            [
             0.8,
             "#7fbc41"
            ],
            [
             0.9,
             "#4d9221"
            ],
            [
             1,
             "#276419"
            ]
           ],
           "sequential": [
            [
             0,
             "#0d0887"
            ],
            [
             0.1111111111111111,
             "#46039f"
            ],
            [
             0.2222222222222222,
             "#7201a8"
            ],
            [
             0.3333333333333333,
             "#9c179e"
            ],
            [
             0.4444444444444444,
             "#bd3786"
            ],
            [
             0.5555555555555556,
             "#d8576b"
            ],
            [
             0.6666666666666666,
             "#ed7953"
            ],
            [
             0.7777777777777778,
             "#fb9f3a"
            ],
            [
             0.8888888888888888,
             "#fdca26"
            ],
            [
             1,
             "#f0f921"
            ]
           ],
           "sequentialminus": [
            [
             0,
             "#0d0887"
            ],
            [
             0.1111111111111111,
             "#46039f"
            ],
            [
             0.2222222222222222,
             "#7201a8"
            ],
            [
             0.3333333333333333,
             "#9c179e"
            ],
            [
             0.4444444444444444,
             "#bd3786"
            ],
            [
             0.5555555555555556,
             "#d8576b"
            ],
            [
             0.6666666666666666,
             "#ed7953"
            ],
            [
             0.7777777777777778,
             "#fb9f3a"
            ],
            [
             0.8888888888888888,
             "#fdca26"
            ],
            [
             1,
             "#f0f921"
            ]
           ]
          },
          "colorway": [
           "#636efa",
           "#EF553B",
           "#00cc96",
           "#ab63fa",
           "#FFA15A",
           "#19d3f3",
           "#FF6692",
           "#B6E880",
           "#FF97FF",
           "#FECB52"
          ],
          "font": {
           "color": "#2a3f5f"
          },
          "geo": {
           "bgcolor": "white",
           "lakecolor": "white",
           "landcolor": "#E5ECF6",
           "showlakes": true,
           "showland": true,
           "subunitcolor": "white"
          },
          "hoverlabel": {
           "align": "left"
          },
          "hovermode": "closest",
          "mapbox": {
           "style": "light"
          },
          "paper_bgcolor": "white",
          "plot_bgcolor": "#E5ECF6",
          "polar": {
           "angularaxis": {
            "gridcolor": "white",
            "linecolor": "white",
            "ticks": ""
           },
           "bgcolor": "#E5ECF6",
           "radialaxis": {
            "gridcolor": "white",
            "linecolor": "white",
            "ticks": ""
           }
          },
          "scene": {
           "xaxis": {
            "backgroundcolor": "#E5ECF6",
            "gridcolor": "white",
            "gridwidth": 2,
            "linecolor": "white",
            "showbackground": true,
            "ticks": "",
            "zerolinecolor": "white"
           },
           "yaxis": {
            "backgroundcolor": "#E5ECF6",
            "gridcolor": "white",
            "gridwidth": 2,
            "linecolor": "white",
            "showbackground": true,
            "ticks": "",
            "zerolinecolor": "white"
           },
           "zaxis": {
            "backgroundcolor": "#E5ECF6",
            "gridcolor": "white",
            "gridwidth": 2,
            "linecolor": "white",
            "showbackground": true,
            "ticks": "",
            "zerolinecolor": "white"
           }
          },
          "shapedefaults": {
           "line": {
            "color": "#2a3f5f"
           }
          },
          "ternary": {
           "aaxis": {
            "gridcolor": "white",
            "linecolor": "white",
            "ticks": ""
           },
           "baxis": {
            "gridcolor": "white",
            "linecolor": "white",
            "ticks": ""
           },
           "bgcolor": "#E5ECF6",
           "caxis": {
            "gridcolor": "white",
            "linecolor": "white",
            "ticks": ""
           }
          },
          "title": {
           "x": 0.05
          },
          "xaxis": {
           "automargin": true,
           "gridcolor": "white",
           "linecolor": "white",
           "ticks": "",
           "title": {
            "standoff": 15
           },
           "zerolinecolor": "white",
           "zerolinewidth": 2
          },
          "yaxis": {
           "automargin": true,
           "gridcolor": "white",
           "linecolor": "white",
           "ticks": "",
           "title": {
            "standoff": 15
           },
           "zerolinecolor": "white",
           "zerolinewidth": 2
          }
         }
        },
        "title": {
         "text": "Crude Rate per Paese",
         "x": 0.5,
         "xanchor": "center",
         "y": 0.95,
         "yanchor": "top"
        }
       }
      }
     },
     "metadata": {},
     "output_type": "display_data"
    }
   ],
   "source": [
    "# plot della mappa\n",
    "# aggiungo al dataset i codici degli stati per poter plottare nella mappa\n",
    "state_codes = {\n",
    "    'District of Columbia' : 'dc','Mississippi': 'MS', 'Oklahoma': 'OK', \n",
    "    'Delaware': 'DE', 'Minnesota': 'MN', 'Illinois': 'IL', 'Arkansas': 'AR', \n",
    "    'New Mexico': 'NM', 'Indiana': 'IN', 'Maryland': 'MD', 'Louisiana': 'LA', \n",
    "    'Idaho': 'ID', 'Wyoming': 'WY', 'Tennessee': 'TN', 'Arizona': 'AZ', \n",
    "    'Iowa': 'IA', 'Michigan': 'MI', 'Kansas': 'KS', 'Utah': 'UT', \n",
    "    'Virginia': 'VA', 'Oregon': 'OR', 'Connecticut': 'CT', 'Montana': 'MT', \n",
    "    'California': 'CA', 'Massachusetts': 'MA', 'West Virginia': 'WV', \n",
    "    'South Carolina': 'SC', 'New Hampshire': 'NH', 'Wisconsin': 'WI',\n",
    "    'Vermont': 'VT', 'Georgia': 'GA', 'North Dakota': 'ND', \n",
    "    'Pennsylvania': 'PA', 'Florida': 'FL', 'Alaska': 'AK', 'Kentucky': 'KY', \n",
    "    'Hawaii': 'HI', 'Nebraska': 'NE', 'Missouri': 'MO', 'Ohio': 'OH', \n",
    "    'Alabama': 'AL', 'Rhode Island': 'RI', 'South Dakota': 'SD', \n",
    "    'Colorado': 'CO', 'New Jersey': 'NJ', 'Washington': 'WA', \n",
    "    'North Carolina': 'NC', 'New York': 'NY', 'Texas': 'TX', \n",
    "    'Nevada': 'NV', 'Maine': 'ME'}\n",
    "\n",
    "dfMean['State Code'] = dfMean['State'].apply(lambda x : state_codes[x])\n",
    "\n",
    "\n",
    "fig = px.choropleth(dfMean, locations='State Code', locationmode='USA-states', \n",
    "                    color='Crude Rate', \n",
    "                    color_continuous_scale=\"Viridis\",\n",
    "                    scope=\"usa\")\n",
    "fig.update_layout(\n",
    "    title={\n",
    "    'text': \"Crude Rate per Paese\",\n",
    "    'y':0.95,\n",
    "    'x':0.5,\n",
    "    'xanchor': 'center',\n",
    "    'yanchor': 'top'})\n",
    "fig.show()"
   ]
  },
  {
   "cell_type": "markdown",
   "metadata": {},
   "source": [
    "### 3. Analisi demografica\n",
    "\n",
    "Analizziamo ora se vi sono correlazioni tra la composizione della popolazione di uno stato e il numero di morti per arma da fuoco. Anche in questo paragrafo ci basiamo su due domande portanti:\n",
    "- Se dividiamo la popolazione in base al generem che osservazioni possiamo concludere?\n",
    "- La composizione etnica della popolazione è davvero rilevante?\n",
    "\n",
    "Iniziamo con la prima domanda e manipoliamo il dataset per ottenere i dati relativi al genere e al numero di morti per arma da fuoco, aggiungendo la colonna per il crude rate"
   ]
  },
  {
   "cell_type": "code",
   "execution_count": 21,
   "metadata": {},
   "outputs": [
    {
     "data": {
      "text/html": [
       "<div>\n",
       "<style scoped>\n",
       "    .dataframe tbody tr th:only-of-type {\n",
       "        vertical-align: middle;\n",
       "    }\n",
       "\n",
       "    .dataframe tbody tr th {\n",
       "        vertical-align: top;\n",
       "    }\n",
       "\n",
       "    .dataframe thead th {\n",
       "        text-align: right;\n",
       "    }\n",
       "</style>\n",
       "<table border=\"1\" class=\"dataframe\">\n",
       "  <thead>\n",
       "    <tr style=\"text-align: right;\">\n",
       "      <th></th>\n",
       "      <th>State</th>\n",
       "      <th>Gender</th>\n",
       "      <th>Year</th>\n",
       "      <th>Deaths</th>\n",
       "      <th>Population</th>\n",
       "      <th>Crude Rate</th>\n",
       "    </tr>\n",
       "  </thead>\n",
       "  <tbody>\n",
       "    <tr>\n",
       "      <th>957</th>\n",
       "      <td>Mississippi</td>\n",
       "      <td>Male</td>\n",
       "      <td>2019</td>\n",
       "      <td>589</td>\n",
       "      <td>1442292.0</td>\n",
       "      <td>0.408378</td>\n",
       "    </tr>\n",
       "    <tr>\n",
       "      <th>720</th>\n",
       "      <td>Alabama</td>\n",
       "      <td>Male</td>\n",
       "      <td>2017</td>\n",
       "      <td>937</td>\n",
       "      <td>2358683.0</td>\n",
       "      <td>0.397256</td>\n",
       "    </tr>\n",
       "    <tr>\n",
       "      <th>943</th>\n",
       "      <td>District of Columbia</td>\n",
       "      <td>Male</td>\n",
       "      <td>2019</td>\n",
       "      <td>131</td>\n",
       "      <td>334711.0</td>\n",
       "      <td>0.391382</td>\n",
       "    </tr>\n",
       "    <tr>\n",
       "      <th>849</th>\n",
       "      <td>Mississippi</td>\n",
       "      <td>Male</td>\n",
       "      <td>2018</td>\n",
       "      <td>554</td>\n",
       "      <td>1445523.0</td>\n",
       "      <td>0.383252</td>\n",
       "    </tr>\n",
       "    <tr>\n",
       "      <th>950</th>\n",
       "      <td>Alaska</td>\n",
       "      <td>Male</td>\n",
       "      <td>2019</td>\n",
       "      <td>145</td>\n",
       "      <td>381418.0</td>\n",
       "      <td>0.380160</td>\n",
       "    </tr>\n",
       "    <tr>\n",
       "      <th>958</th>\n",
       "      <td>Wyoming</td>\n",
       "      <td>Male</td>\n",
       "      <td>2019</td>\n",
       "      <td>112</td>\n",
       "      <td>294730.0</td>\n",
       "      <td>0.380009</td>\n",
       "    </tr>\n",
       "    <tr>\n",
       "      <th>987</th>\n",
       "      <td>Louisiana</td>\n",
       "      <td>Male</td>\n",
       "      <td>2019</td>\n",
       "      <td>857</td>\n",
       "      <td>2267050.0</td>\n",
       "      <td>0.378024</td>\n",
       "    </tr>\n",
       "    <tr>\n",
       "      <th>770</th>\n",
       "      <td>Alaska</td>\n",
       "      <td>Male</td>\n",
       "      <td>2017</td>\n",
       "      <td>146</td>\n",
       "      <td>386279.0</td>\n",
       "      <td>0.377965</td>\n",
       "    </tr>\n",
       "    <tr>\n",
       "      <th>820</th>\n",
       "      <td>Alabama</td>\n",
       "      <td>Male</td>\n",
       "      <td>2018</td>\n",
       "      <td>889</td>\n",
       "      <td>2363320.0</td>\n",
       "      <td>0.376166</td>\n",
       "    </tr>\n",
       "    <tr>\n",
       "      <th>939</th>\n",
       "      <td>Alabama</td>\n",
       "      <td>Male</td>\n",
       "      <td>2019</td>\n",
       "      <td>889</td>\n",
       "      <td>2369517.0</td>\n",
       "      <td>0.375182</td>\n",
       "    </tr>\n",
       "    <tr>\n",
       "      <th>742</th>\n",
       "      <td>Missouri</td>\n",
       "      <td>Male</td>\n",
       "      <td>2017</td>\n",
       "      <td>1118</td>\n",
       "      <td>2997559.0</td>\n",
       "      <td>0.372970</td>\n",
       "    </tr>\n",
       "    <tr>\n",
       "      <th>938</th>\n",
       "      <td>New Mexico</td>\n",
       "      <td>Male</td>\n",
       "      <td>2019</td>\n",
       "      <td>386</td>\n",
       "      <td>1037432.0</td>\n",
       "      <td>0.372073</td>\n",
       "    </tr>\n",
       "    <tr>\n",
       "      <th>794</th>\n",
       "      <td>Louisiana</td>\n",
       "      <td>Male</td>\n",
       "      <td>2017</td>\n",
       "      <td>842</td>\n",
       "      <td>2281654.0</td>\n",
       "      <td>0.369031</td>\n",
       "    </tr>\n",
       "    <tr>\n",
       "      <th>914</th>\n",
       "      <td>Louisiana</td>\n",
       "      <td>Male</td>\n",
       "      <td>2018</td>\n",
       "      <td>838</td>\n",
       "      <td>2274242.0</td>\n",
       "      <td>0.368474</td>\n",
       "    </tr>\n",
       "    <tr>\n",
       "      <th>755</th>\n",
       "      <td>Mississippi</td>\n",
       "      <td>Male</td>\n",
       "      <td>2017</td>\n",
       "      <td>531</td>\n",
       "      <td>1449798.0</td>\n",
       "      <td>0.366258</td>\n",
       "    </tr>\n",
       "    <tr>\n",
       "      <th>773</th>\n",
       "      <td>Montana</td>\n",
       "      <td>Male</td>\n",
       "      <td>2017</td>\n",
       "      <td>194</td>\n",
       "      <td>529757.0</td>\n",
       "      <td>0.366206</td>\n",
       "    </tr>\n",
       "    <tr>\n",
       "      <th>676</th>\n",
       "      <td>Alabama</td>\n",
       "      <td>Male</td>\n",
       "      <td>2016</td>\n",
       "      <td>857</td>\n",
       "      <td>2355599.0</td>\n",
       "      <td>0.363814</td>\n",
       "    </tr>\n",
       "    <tr>\n",
       "      <th>876</th>\n",
       "      <td>Missouri</td>\n",
       "      <td>Male</td>\n",
       "      <td>2018</td>\n",
       "      <td>1082</td>\n",
       "      <td>3004921.0</td>\n",
       "      <td>0.360076</td>\n",
       "    </tr>\n",
       "    <tr>\n",
       "      <th>652</th>\n",
       "      <td>Louisiana</td>\n",
       "      <td>Male</td>\n",
       "      <td>2016</td>\n",
       "      <td>823</td>\n",
       "      <td>2287883.0</td>\n",
       "      <td>0.359721</td>\n",
       "    </tr>\n",
       "    <tr>\n",
       "      <th>578</th>\n",
       "      <td>Alaska</td>\n",
       "      <td>Male</td>\n",
       "      <td>2015</td>\n",
       "      <td>138</td>\n",
       "      <td>386240.0</td>\n",
       "      <td>0.357291</td>\n",
       "    </tr>\n",
       "  </tbody>\n",
       "</table>\n",
       "</div>"
      ],
      "text/plain": [
       "                    State Gender  Year  Deaths  Population  Crude Rate\n",
       "957           Mississippi   Male  2019     589   1442292.0    0.408378\n",
       "720               Alabama   Male  2017     937   2358683.0    0.397256\n",
       "943  District of Columbia   Male  2019     131    334711.0    0.391382\n",
       "849           Mississippi   Male  2018     554   1445523.0    0.383252\n",
       "950                Alaska   Male  2019     145    381418.0    0.380160\n",
       "958               Wyoming   Male  2019     112    294730.0    0.380009\n",
       "987             Louisiana   Male  2019     857   2267050.0    0.378024\n",
       "770                Alaska   Male  2017     146    386279.0    0.377965\n",
       "820               Alabama   Male  2018     889   2363320.0    0.376166\n",
       "939               Alabama   Male  2019     889   2369517.0    0.375182\n",
       "742              Missouri   Male  2017    1118   2997559.0    0.372970\n",
       "938            New Mexico   Male  2019     386   1037432.0    0.372073\n",
       "794             Louisiana   Male  2017     842   2281654.0    0.369031\n",
       "914             Louisiana   Male  2018     838   2274242.0    0.368474\n",
       "755           Mississippi   Male  2017     531   1449798.0    0.366258\n",
       "773               Montana   Male  2017     194    529757.0    0.366206\n",
       "676               Alabama   Male  2016     857   2355599.0    0.363814\n",
       "876              Missouri   Male  2018    1082   3004921.0    0.360076\n",
       "652             Louisiana   Male  2016     823   2287883.0    0.359721\n",
       "578                Alaska   Male  2015     138    386240.0    0.357291"
      ]
     },
     "execution_count": 21,
     "metadata": {},
     "output_type": "execute_result"
    }
   ],
   "source": [
    "dffDemo = dfDemo[['State','Year', 'Gender', 'Population']].groupby(by=['State','Year', 'Gender'], as_index=False).sum()\n",
    "dffGender = pd.merge(dfGun, dffDemo, how='outer', on=['State','Gender','Year'])\n",
    "\n",
    "crudeRate = [(nDeaths/pop)*1000 for (nDeaths, pop) in zip(dffGender['Deaths'], dffGender['Population'])]\n",
    "dffGender.insert(loc=len(dffGender.columns), column='Crude Rate', value=crudeRate)\n",
    "\n",
    "dffGender = dffGender.sort_values(by='Crude Rate', ascending=False)\n",
    "\n",
    "dffGender.head(20)"
   ]
  },
  {
   "cell_type": "markdown",
   "metadata": {},
   "source": [
    "È subito evidente l'alto crude rate rispetto alla popolazione maschile, che supera di misura quello dell'intero stato, che aveva massimo 0.24. Studiamo dunque il numero di morti per genere e della variazione del crude rate medio nel corso degli anni aiutandoci con i due grafici."
   ]
  },
  {
   "cell_type": "code",
   "execution_count": 22,
   "metadata": {},
   "outputs": [
    {
     "data": {
      "image/png": "[encoded data removed]",
      "text/plain": [
       "<Figure size 1200x400 with 2 Axes>"
      ]
     },
     "metadata": {},
     "output_type": "display_data"
    }
   ],
   "source": [
    "dfCrudeRateByYearGender = dffGender.drop(['State'], axis=1).groupby(by=['Year', 'Gender'], as_index=False).agg({'Deaths':'sum',\n",
    "                                                                                                                'Population':'sum',\n",
    "                                                                                                                'Crude Rate':'mean'})\n",
    "dfCrudeRateByYearGender.head(50)\n",
    "\n",
    "sns.set(rc={'figure.figsize':(12,4)})\n",
    "fig, axs = plt.subplots(1,2)\n",
    "plot2 = sns.lineplot(data=dfCrudeRateByYearGender, x='Year', y='Deaths', hue='Gender', ax=axs[0])\n",
    "plot2.set(title='Numero di morti totale per anno')\n",
    "plot2.set(xticks=dfCrudeRateByYear['Year'].values);\n",
    "\n",
    "plot1 = sns.lineplot(data=dfCrudeRateByYearGender, x='Year', y='Crude Rate', hue='Gender', ax=axs[1])\n",
    "plot1.set(title='Crude Rate medio per anno')\n",
    "plot1.set(xticks=dfCrudeRateByYear['Year'].values);"
   ]
  },
  {
   "cell_type": "markdown",
   "metadata": {},
   "source": [
    "Va da subito osservato come il numero di morti di sesso maschile è notevolemente maggiore rispetto a quello femminile, ma il dato più rilevante è fornito dal secondo grafico, quello riguardante il curde rate. Infatti si nota che comunque, in rapporto alla popolazione, il numero di morti di sesso femminile è minore. \n",
    "\n",
    "Passiamo ora ad un'analisi dal punto di vista della composizione etnica della popolazione. Essendo i dati sulle morti per arma da fuoco divisi in base all'etnia, dobbiamo modificare il dataset per per studiare la correlazione della composizione della popolazione e il numero di morti."
   ]
  },
  {
   "cell_type": "code",
   "execution_count": 23,
   "metadata": {},
   "outputs": [
    {
     "data": {
      "text/html": [
       "<div>\n",
       "<style scoped>\n",
       "    .dataframe tbody tr th:only-of-type {\n",
       "        vertical-align: middle;\n",
       "    }\n",
       "\n",
       "    .dataframe tbody tr th {\n",
       "        vertical-align: top;\n",
       "    }\n",
       "\n",
       "    .dataframe thead th {\n",
       "        text-align: right;\n",
       "    }\n",
       "</style>\n",
       "<table border=\"1\" class=\"dataframe\">\n",
       "  <thead>\n",
       "    <tr style=\"text-align: right;\">\n",
       "      <th></th>\n",
       "      <th>State</th>\n",
       "      <th>Year</th>\n",
       "      <th>Deaths</th>\n",
       "      <th>American Indian or Alaska Native</th>\n",
       "      <th>Asian</th>\n",
       "      <th>Black or African American</th>\n",
       "      <th>More than one race</th>\n",
       "      <th>Native Hawaiian or Other Pacific Islander</th>\n",
       "      <th>White</th>\n",
       "    </tr>\n",
       "  </thead>\n",
       "  <tbody>\n",
       "    <tr>\n",
       "      <th>0</th>\n",
       "      <td>Alabama</td>\n",
       "      <td>2010</td>\n",
       "      <td>781</td>\n",
       "      <td>32883.0</td>\n",
       "      <td>55721.0</td>\n",
       "      <td>1261234.0</td>\n",
       "      <td>64873.0</td>\n",
       "      <td>5167.0</td>\n",
       "      <td>3365559.0</td>\n",
       "    </tr>\n",
       "    <tr>\n",
       "      <th>1</th>\n",
       "      <td>Alabama</td>\n",
       "      <td>2011</td>\n",
       "      <td>786</td>\n",
       "      <td>32793.0</td>\n",
       "      <td>57527.0</td>\n",
       "      <td>1266978.0</td>\n",
       "      <td>67489.0</td>\n",
       "      <td>5030.0</td>\n",
       "      <td>3369252.0</td>\n",
       "    </tr>\n",
       "    <tr>\n",
       "      <th>2</th>\n",
       "      <td>Alabama</td>\n",
       "      <td>2012</td>\n",
       "      <td>832</td>\n",
       "      <td>32863.0</td>\n",
       "      <td>60785.0</td>\n",
       "      <td>1275628.0</td>\n",
       "      <td>70278.0</td>\n",
       "      <td>4970.0</td>\n",
       "      <td>3371064.0</td>\n",
       "    </tr>\n",
       "    <tr>\n",
       "      <th>3</th>\n",
       "      <td>Alabama</td>\n",
       "      <td>2013</td>\n",
       "      <td>855</td>\n",
       "      <td>32896.0</td>\n",
       "      <td>63011.0</td>\n",
       "      <td>1284340.0</td>\n",
       "      <td>72730.0</td>\n",
       "      <td>4901.0</td>\n",
       "      <td>3372203.0</td>\n",
       "    </tr>\n",
       "    <tr>\n",
       "      <th>4</th>\n",
       "      <td>Alabama</td>\n",
       "      <td>2014</td>\n",
       "      <td>813</td>\n",
       "      <td>33095.0</td>\n",
       "      <td>64943.0</td>\n",
       "      <td>1290579.0</td>\n",
       "      <td>74913.0</td>\n",
       "      <td>4911.0</td>\n",
       "      <td>3373358.0</td>\n",
       "    </tr>\n",
       "    <tr>\n",
       "      <th>5</th>\n",
       "      <td>Alabama</td>\n",
       "      <td>2015</td>\n",
       "      <td>955</td>\n",
       "      <td>33332.0</td>\n",
       "      <td>67141.0</td>\n",
       "      <td>1297313.0</td>\n",
       "      <td>77302.0</td>\n",
       "      <td>4916.0</td>\n",
       "      <td>3372343.0</td>\n",
       "    </tr>\n",
       "    <tr>\n",
       "      <th>6</th>\n",
       "      <td>Alabama</td>\n",
       "      <td>2016</td>\n",
       "      <td>1037</td>\n",
       "      <td>33610.0</td>\n",
       "      <td>69476.0</td>\n",
       "      <td>1301635.0</td>\n",
       "      <td>79782.0</td>\n",
       "      <td>4916.0</td>\n",
       "      <td>3374106.0</td>\n",
       "    </tr>\n",
       "    <tr>\n",
       "      <th>7</th>\n",
       "      <td>Alabama</td>\n",
       "      <td>2017</td>\n",
       "      <td>1122</td>\n",
       "      <td>33840.0</td>\n",
       "      <td>71245.0</td>\n",
       "      <td>1305617.0</td>\n",
       "      <td>82296.0</td>\n",
       "      <td>4961.0</td>\n",
       "      <td>3376527.0</td>\n",
       "    </tr>\n",
       "    <tr>\n",
       "      <th>8</th>\n",
       "      <td>Alabama</td>\n",
       "      <td>2018</td>\n",
       "      <td>1064</td>\n",
       "      <td>34281.0</td>\n",
       "      <td>72354.0</td>\n",
       "      <td>1309574.0</td>\n",
       "      <td>84782.0</td>\n",
       "      <td>5048.0</td>\n",
       "      <td>3381642.0</td>\n",
       "    </tr>\n",
       "    <tr>\n",
       "      <th>9</th>\n",
       "      <td>Alabama</td>\n",
       "      <td>2019</td>\n",
       "      <td>1072</td>\n",
       "      <td>34799.0</td>\n",
       "      <td>73715.0</td>\n",
       "      <td>1313291.0</td>\n",
       "      <td>86874.0</td>\n",
       "      <td>5110.0</td>\n",
       "      <td>3389396.0</td>\n",
       "    </tr>\n",
       "  </tbody>\n",
       "</table>\n",
       "</div>"
      ],
      "text/plain": [
       "     State  Year  Deaths  American Indian or Alaska Native    Asian  \\\n",
       "0  Alabama  2010     781                           32883.0  55721.0   \n",
       "1  Alabama  2011     786                           32793.0  57527.0   \n",
       "2  Alabama  2012     832                           32863.0  60785.0   \n",
       "3  Alabama  2013     855                           32896.0  63011.0   \n",
       "4  Alabama  2014     813                           33095.0  64943.0   \n",
       "5  Alabama  2015     955                           33332.0  67141.0   \n",
       "6  Alabama  2016    1037                           33610.0  69476.0   \n",
       "7  Alabama  2017    1122                           33840.0  71245.0   \n",
       "8  Alabama  2018    1064                           34281.0  72354.0   \n",
       "9  Alabama  2019    1072                           34799.0  73715.0   \n",
       "\n",
       "   Black or African American  More than one race  \\\n",
       "0                  1261234.0             64873.0   \n",
       "1                  1266978.0             67489.0   \n",
       "2                  1275628.0             70278.0   \n",
       "3                  1284340.0             72730.0   \n",
       "4                  1290579.0             74913.0   \n",
       "5                  1297313.0             77302.0   \n",
       "6                  1301635.0             79782.0   \n",
       "7                  1305617.0             82296.0   \n",
       "8                  1309574.0             84782.0   \n",
       "9                  1313291.0             86874.0   \n",
       "\n",
       "   Native Hawaiian or Other Pacific Islander      White  \n",
       "0                                     5167.0  3365559.0  \n",
       "1                                     5030.0  3369252.0  \n",
       "2                                     4970.0  3371064.0  \n",
       "3                                     4901.0  3372203.0  \n",
       "4                                     4911.0  3373358.0  \n",
       "5                                     4916.0  3372343.0  \n",
       "6                                     4916.0  3374106.0  \n",
       "7                                     4961.0  3376527.0  \n",
       "8                                     5048.0  3381642.0  \n",
       "9                                     5110.0  3389396.0  "
      ]
     },
     "execution_count": 23,
     "metadata": {},
     "output_type": "execute_result"
    }
   ],
   "source": [
    "\n",
    "dfRaces = dfDemo.pivot_table(index = ['State', 'Gender', 'Year', \n",
    "                         dfDemo.groupby(['State', 'Gender', 'Year', 'Race']).cumcount()],\n",
    "                columns = 'Race',\n",
    "                values = 'Population')\n",
    "dfRaces = dfRaces.reset_index()\n",
    "# per togliere la colonna con gli indici del cumcount, necessario avendo valori multipli\n",
    "dfRaces = dfRaces.drop(dfRaces.columns[3], axis=1) \n",
    "\n",
    "dfRaces = dfRaces.drop('Gender', axis=1).groupby(by=['State', 'Year'], as_index=False).sum()\n",
    "dfGun = dfGun.drop('Gender', axis=1).groupby(by=['State', 'Year'], as_index=False).sum()\n",
    "\n",
    "dfRaces = pd.merge(dfGun, dfRaces, how='outer', on=['State','Year'])\n",
    "\n",
    "dfRaces.head(10)"
   ]
  },
  {
   "cell_type": "markdown",
   "metadata": {},
   "source": [
    "Calcoliamo ora la correlazione tra il numero di abitanti di ogni stato e il numero di morti per arma da fuoco, restringendoci ai singoli anni, per osservare se vi sono variazioni."
   ]
  },
  {
   "cell_type": "code",
   "execution_count": 24,
   "metadata": {},
   "outputs": [
    {
     "name": "stdout",
     "output_type": "stream",
     "text": [
      "2010\n",
      "\n",
      " American Indian or Alaska Native : 0.619\n",
      "\n",
      " Asian : 0.666\n",
      "\n",
      " Black or African American : 0.826\n",
      "\n",
      " More than one race : 0.774\n",
      "\n",
      " Native Hawaiian or Other Pacific Islander : 0.447\n",
      "\n",
      " White : 0.937\n",
      "2011\n",
      "\n",
      " American Indian or Alaska Native : 0.616\n",
      "\n",
      " Asian : 0.662\n",
      "\n",
      " Black or African American : 0.824\n",
      "\n",
      " More than one race : 0.776\n",
      "\n",
      " Native Hawaiian or Other Pacific Islander : 0.442\n",
      "\n",
      " White : 0.933\n",
      "2012\n",
      "\n",
      " American Indian or Alaska Native : 0.602\n",
      "\n",
      " Asian : 0.650\n",
      "\n",
      " Black or African American : 0.821\n",
      "\n",
      " More than one race : 0.770\n",
      "\n",
      " Native Hawaiian or Other Pacific Islander : 0.435\n",
      "\n",
      " White : 0.929\n",
      "2013\n",
      "\n",
      " American Indian or Alaska Native : 0.597\n",
      "\n",
      " Asian : 0.644\n",
      "\n",
      " Black or African American : 0.814\n",
      "\n",
      " More than one race : 0.765\n",
      "\n",
      " Native Hawaiian or Other Pacific Islander : 0.429\n",
      "\n",
      " White : 0.924\n",
      "2014\n",
      "\n",
      " American Indian or Alaska Native : 0.591\n",
      "\n",
      " Asian : 0.640\n",
      "\n",
      " Black or African American : 0.824\n",
      "\n",
      " More than one race : 0.763\n",
      "\n",
      " Native Hawaiian or Other Pacific Islander : 0.429\n",
      "\n",
      " White : 0.921\n",
      "2015\n",
      "\n",
      " American Indian or Alaska Native : 0.583\n",
      "\n",
      " Asian : 0.624\n",
      "\n",
      " Black or African American : 0.821\n",
      "\n",
      " More than one race : 0.752\n",
      "\n",
      " Native Hawaiian or Other Pacific Islander : 0.419\n",
      "\n",
      " White : 0.913\n",
      "2016\n",
      "\n",
      " American Indian or Alaska Native : 0.576\n",
      "\n",
      " Asian : 0.617\n",
      "\n",
      " Black or African American : 0.824\n",
      "\n",
      " More than one race : 0.749\n",
      "\n",
      " Native Hawaiian or Other Pacific Islander : 0.411\n",
      "\n",
      " White : 0.912\n",
      "2017\n",
      "\n",
      " American Indian or Alaska Native : 0.558\n",
      "\n",
      " Asian : 0.601\n",
      "\n",
      " Black or African American : 0.814\n",
      "\n",
      " More than one race : 0.735\n",
      "\n",
      " Native Hawaiian or Other Pacific Islander : 0.403\n",
      "\n",
      " White : 0.902\n",
      "2018\n",
      "\n",
      " American Indian or Alaska Native : 0.545\n",
      "\n",
      " Asian : 0.581\n",
      "\n",
      " Black or African American : 0.824\n",
      "\n",
      " More than one race : 0.725\n",
      "\n",
      " Native Hawaiian or Other Pacific Islander : 0.390\n",
      "\n",
      " White : 0.897\n",
      "2019\n",
      "\n",
      " American Indian or Alaska Native : 0.549\n",
      "\n",
      " Asian : 0.569\n",
      "\n",
      " Black or African American : 0.829\n",
      "\n",
      " More than one race : 0.717\n",
      "\n",
      " Native Hawaiian or Other Pacific Islander : 0.385\n",
      "\n",
      " White : 0.891\n"
     ]
    }
   ],
   "source": [
    "races = dfRaces.columns.to_list()\n",
    "races.remove('Year')\n",
    "races.remove('State')\n",
    "races.remove('Deaths')\n",
    "\n",
    "years = dfRaces['Year'].unique()\n",
    "\n",
    "for year in years:\n",
    "    print(year)\n",
    "    for race in races:\n",
    "        # dfGun = dfGun[(dfGun['Year']>2009) & (dfGun['Year']<2020)]\n",
    "        df = dfRaces[dfRaces['Year'] == year]\n",
    "        corr, p = sci.pearsonr(df[race], df['Deaths'])\n",
    "        print('\\n', race, ': %.3f' % corr)"
   ]
  },
  {
   "cell_type": "markdown",
   "metadata": {},
   "source": [
    "Dai risultati ottenuti si osserva un'alta correlazione tra la popolazione bianca e il numero di morti, quasi sempre oltre lo 0.9 e in diminuzione negli ultimi 2 anni. Altra osservazione riguarda la componente Afroamericana che oscilla tra lo 0.81 e 0.82.\n",
    "La correlazione osservata non stupisce essendo le due maggiori componenti della popolazione statunitense.\n",
    "In conclusione non è possibile fare rilevanti osservazioni con i dati in possesso."
   ]
  }
 ],
 "metadata": {
  "kernelspec": {
   "display_name": "Python 3.9.13 64-bit",
   "language": "python",
   "name": "python3"
  },
  "language_info": {
   "codemirror_mode": {
    "name": "ipython",
    "version": 3
   },
   "file_extension": ".py",
   "mimetype": "text/x-python",
   "name": "python",
   "nbconvert_exporter": "python",
   "pygments_lexer": "ipython3",
   "version": "3.9.13"
  },
  "orig_nbformat": 4,
  "vscode": {
   "interpreter": {
    "hash": "514707e9b6dfd74413af84717689f89e84bba98f6fc02054a0a2bf705ef2b367"
   }
  }
 },
 "nbformat": 4,
 "nbformat_minor": 2
}
